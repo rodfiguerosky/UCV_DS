{
  "nbformat": 4,
  "nbformat_minor": 0,
  "metadata": {
    "colab": {
      "provenance": [],
      "mount_file_id": "182QclYOBX_88eF9jwqfXB4vIBA0zRDAb",
      "authorship_tag": "ABX9TyMegz0NN+BcvZCSyoMdH+Zf"
    },
    "kernelspec": {
      "name": "python3",
      "display_name": "Python 3"
    },
    "language_info": {
      "name": "python"
    }
  },
  "cells": [
    {
      "cell_type": "code",
      "source": [
        "# Para no realizar, 'upload' data\n",
        "# importando archivo de datos desde el drive\n",
        "from pydrive.auth import GoogleAuth\n",
        "from google.colab import drive\n",
        "from pydrive.drive import GoogleDrive\n",
        "from google.colab import auth\n",
        "from oauth2client.client import GoogleCredentials\n",
        "\n",
        "auth.authenticate_user()\n",
        "gauth = GoogleAuth()\n",
        "gauth.credentials = GoogleCredentials.get_application_default()\n",
        "drive = GoogleDrive(gauth)\n",
        "\n",
        "download = drive.CreateFile({'id': '1wunEQPvINiHD5JqVa6Ug9wRpNEFwo-ju'})\n",
        "download.GetContentFile('archive.zip')"
      ],
      "metadata": {
        "id": "eIni_9pj1HSw"
      },
      "execution_count": null,
      "outputs": []
    },
    {
      "cell_type": "code",
      "execution_count": null,
      "metadata": {
        "colab": {
          "base_uri": "https://localhost:8080/"
        },
        "id": "OgQXvtPazQ8r",
        "outputId": "b1aaafce-e0de-4cdd-e4cc-c13f03b488e2"
      },
      "outputs": [
        {
          "output_type": "execute_result",
          "data": {
            "text/plain": [
              "Drama                        3687\n",
              "Comedy                       2099\n",
              "Action                       1657\n",
              "Suspense                     1501\n",
              "Kids                         1085\n",
              "Documentary                   993\n",
              "Special Interest              980\n",
              "Horror                        875\n",
              "Romance                       674\n",
              "Animation                     547\n",
              "and Culture                   483\n",
              "Entertainment                 483\n",
              "Arts                          483\n",
              "Science Fiction               457\n",
              "International                 355\n",
              "TV Shows                      263\n",
              "Adventure                     259\n",
              "Western                       234\n",
              "Sports                        160\n",
              "Music Videos and Concerts     155\n",
              "Unscripted                    152\n",
              "Arthouse                      141\n",
              "LGBTQ                         113\n",
              "Young Adult Audience           87\n",
              "Fitness                        83\n",
              "Anime                          80\n",
              "Fantasy                        68\n",
              "Faith and Spirituality         66\n",
              "Military and War               44\n",
              "Historical                     31\n",
              "Talk Show and Variety          14\n",
              "dtype: int64"
            ]
          },
          "metadata": {},
          "execution_count": 84
        }
      ],
      "source": [
        "import numpy as np\n",
        "import pandas as pd\n",
        "\n",
        "df = pd.read_csv('archive.zip', compression='zip')\n",
        "df['listed_in'].str.split(r', ', expand=True).stack().value_counts()"
      ]
    }
  ]
}
